{
 "cells": [
  {
   "cell_type": "markdown",
   "id": "c1310134",
   "metadata": {},
   "source": [
    "# Aprendizaje Reforzado (Reinforcement Learing)"
   ]
  },
  {
   "cell_type": "markdown",
   "id": "91f81e4b",
   "metadata": {},
   "source": [
    "## Notas: \n",
    "1. Funciona como aprendiendo por prueba y error en una tarea especifica, necesitan un agente aleatorio para estos 'intentos'.\n",
    "2. Existe un Agente(Agent) y un Entorno(Enviroment) del cual existe un proceso de accion entre el agente al entrono, obteniedno asi recompensas y/o observaciones"
   ]
  },
  {
   "cell_type": "markdown",
   "id": "8dd3c2d5",
   "metadata": {},
   "source": [
    "# Dependencias"
   ]
  },
  {
   "cell_type": "code",
   "execution_count": 1,
   "id": "7593c49c",
   "metadata": {},
   "outputs": [
    {
     "name": "stdout",
     "output_type": "stream",
     "text": [
      "Requirement already satisfied: stable_baselines3[extra] in c:\\users\\julia\\appdata\\local\\programs\\python\\python37\\lib\\site-packages (1.5.0)\n",
      "Requirement already satisfied: matplotlib in c:\\users\\julia\\appdata\\local\\programs\\python\\python37\\lib\\site-packages (from stable_baselines3[extra]) (3.5.2)\n",
      "Requirement already satisfied: numpy in c:\\users\\julia\\appdata\\local\\programs\\python\\python37\\lib\\site-packages (from stable_baselines3[extra]) (1.21.6)\n",
      "Requirement already satisfied: gym==0.21 in c:\\users\\julia\\appdata\\local\\programs\\python\\python37\\lib\\site-packages (from stable_baselines3[extra]) (0.21.0)\n",
      "Requirement already satisfied: pandas in c:\\users\\julia\\appdata\\local\\programs\\python\\python37\\lib\\site-packages (from stable_baselines3[extra]) (1.3.5)\n",
      "Requirement already satisfied: torch>=1.8.1 in c:\\users\\julia\\appdata\\local\\programs\\python\\python37\\lib\\site-packages (from stable_baselines3[extra]) (1.11.0)\n",
      "Requirement already satisfied: cloudpickle in c:\\users\\julia\\appdata\\local\\programs\\python\\python37\\lib\\site-packages (from stable_baselines3[extra]) (2.1.0)\n",
      "Requirement already satisfied: psutil in c:\\users\\julia\\appdata\\local\\programs\\python\\python37\\lib\\site-packages (from stable_baselines3[extra]) (5.9.1)\n",
      "Requirement already satisfied: ale-py~=0.7.4 in c:\\users\\julia\\appdata\\local\\programs\\python\\python37\\lib\\site-packages (from stable_baselines3[extra]) (0.7.5)\n",
      "Requirement already satisfied: autorom[accept-rom-license]~=0.4.2 in c:\\users\\julia\\appdata\\local\\programs\\python\\python37\\lib\\site-packages (from stable_baselines3[extra]) (0.4.2)\n",
      "Requirement already satisfied: pillow in c:\\users\\julia\\appdata\\local\\programs\\python\\python37\\lib\\site-packages (from stable_baselines3[extra]) (9.1.1)\n",
      "Requirement already satisfied: opencv-python in c:\\users\\julia\\appdata\\local\\programs\\python\\python37\\lib\\site-packages (from stable_baselines3[extra]) (4.6.0.66)\n",
      "Requirement already satisfied: tensorboard>=2.2.0 in c:\\users\\julia\\appdata\\local\\programs\\python\\python37\\lib\\site-packages (from stable_baselines3[extra]) (2.9.1)\n",
      "Requirement already satisfied: importlib-metadata>=4.8.1 in c:\\users\\julia\\appdata\\local\\programs\\python\\python37\\lib\\site-packages (from gym==0.21->stable_baselines3[extra]) (4.11.4)\n",
      "Requirement already satisfied: importlib-resources in c:\\users\\julia\\appdata\\local\\programs\\python\\python37\\lib\\site-packages (from ale-py~=0.7.4->stable_baselines3[extra]) (5.8.0)\n",
      "Requirement already satisfied: click in c:\\users\\julia\\appdata\\local\\programs\\python\\python37\\lib\\site-packages (from autorom[accept-rom-license]~=0.4.2->stable_baselines3[extra]) (8.1.3)\n",
      "Requirement already satisfied: requests in c:\\users\\julia\\appdata\\local\\programs\\python\\python37\\lib\\site-packages (from autorom[accept-rom-license]~=0.4.2->stable_baselines3[extra]) (2.28.0)\n",
      "Requirement already satisfied: tqdm in c:\\users\\julia\\appdata\\local\\programs\\python\\python37\\lib\\site-packages (from autorom[accept-rom-license]~=0.4.2->stable_baselines3[extra]) (4.64.0)\n",
      "Requirement already satisfied: AutoROM.accept-rom-license in c:\\users\\julia\\appdata\\local\\programs\\python\\python37\\lib\\site-packages (from autorom[accept-rom-license]~=0.4.2->stable_baselines3[extra]) (0.4.2)\n",
      "Requirement already satisfied: google-auth-oauthlib<0.5,>=0.4.1 in c:\\users\\julia\\appdata\\local\\programs\\python\\python37\\lib\\site-packages (from tensorboard>=2.2.0->stable_baselines3[extra]) (0.4.6)\n",
      "Requirement already satisfied: protobuf<3.20,>=3.9.2 in c:\\users\\julia\\appdata\\local\\programs\\python\\python37\\lib\\site-packages (from tensorboard>=2.2.0->stable_baselines3[extra]) (3.19.4)\n",
      "Requirement already satisfied: tensorboard-plugin-wit>=1.6.0 in c:\\users\\julia\\appdata\\local\\programs\\python\\python37\\lib\\site-packages (from tensorboard>=2.2.0->stable_baselines3[extra]) (1.8.1)\n",
      "Requirement already satisfied: setuptools>=41.0.0 in c:\\users\\julia\\appdata\\local\\programs\\python\\python37\\lib\\site-packages (from tensorboard>=2.2.0->stable_baselines3[extra]) (47.1.0)\n",
      "Requirement already satisfied: wheel>=0.26 in c:\\users\\julia\\appdata\\local\\programs\\python\\python37\\lib\\site-packages (from tensorboard>=2.2.0->stable_baselines3[extra]) (0.37.1)\n",
      "Requirement already satisfied: google-auth<3,>=1.6.3 in c:\\users\\julia\\appdata\\local\\programs\\python\\python37\\lib\\site-packages (from tensorboard>=2.2.0->stable_baselines3[extra]) (2.8.0)\n",
      "Requirement already satisfied: markdown>=2.6.8 in c:\\users\\julia\\appdata\\local\\programs\\python\\python37\\lib\\site-packages (from tensorboard>=2.2.0->stable_baselines3[extra]) (3.3.7)\n",
      "Requirement already satisfied: tensorboard-data-server<0.7.0,>=0.6.0 in c:\\users\\julia\\appdata\\local\\programs\\python\\python37\\lib\\site-packages (from tensorboard>=2.2.0->stable_baselines3[extra]) (0.6.1)\n",
      "Requirement already satisfied: werkzeug>=1.0.1 in c:\\users\\julia\\appdata\\local\\programs\\python\\python37\\lib\\site-packages (from tensorboard>=2.2.0->stable_baselines3[extra]) (2.1.2)\n",
      "Requirement already satisfied: grpcio>=1.24.3 in c:\\users\\julia\\appdata\\local\\programs\\python\\python37\\lib\\site-packages (from tensorboard>=2.2.0->stable_baselines3[extra]) (1.46.3)\n",
      "Requirement already satisfied: absl-py>=0.4 in c:\\users\\julia\\appdata\\local\\programs\\python\\python37\\lib\\site-packages (from tensorboard>=2.2.0->stable_baselines3[extra]) (1.1.0)\n",
      "Requirement already satisfied: typing-extensions in c:\\users\\julia\\appdata\\local\\programs\\python\\python37\\lib\\site-packages (from torch>=1.8.1->stable_baselines3[extra]) (4.1.1)\n",
      "Requirement already satisfied: cycler>=0.10 in c:\\users\\julia\\appdata\\local\\programs\\python\\python37\\lib\\site-packages (from matplotlib->stable_baselines3[extra]) (0.11.0)\n",
      "Requirement already satisfied: packaging>=20.0 in c:\\users\\julia\\appdata\\local\\programs\\python\\python37\\lib\\site-packages (from matplotlib->stable_baselines3[extra]) (21.3)\n",
      "Requirement already satisfied: kiwisolver>=1.0.1 in c:\\users\\julia\\appdata\\local\\programs\\python\\python37\\lib\\site-packages (from matplotlib->stable_baselines3[extra]) (1.4.3)\n",
      "Requirement already satisfied: pyparsing>=2.2.1 in c:\\users\\julia\\appdata\\local\\programs\\python\\python37\\lib\\site-packages (from matplotlib->stable_baselines3[extra]) (3.0.9)\n",
      "Requirement already satisfied: python-dateutil>=2.7 in c:\\users\\julia\\appdata\\local\\programs\\python\\python37\\lib\\site-packages (from matplotlib->stable_baselines3[extra]) (2.8.2)\n",
      "Requirement already satisfied: fonttools>=4.22.0 in c:\\users\\julia\\appdata\\local\\programs\\python\\python37\\lib\\site-packages (from matplotlib->stable_baselines3[extra]) (4.33.3)\n",
      "Requirement already satisfied: pytz>=2017.3 in c:\\users\\julia\\appdata\\local\\programs\\python\\python37\\lib\\site-packages (from pandas->stable_baselines3[extra]) (2022.1)\n",
      "Requirement already satisfied: cachetools<6.0,>=2.0.0 in c:\\users\\julia\\appdata\\local\\programs\\python\\python37\\lib\\site-packages (from google-auth<3,>=1.6.3->tensorboard>=2.2.0->stable_baselines3[extra]) (5.2.0)\n",
      "Requirement already satisfied: rsa<5,>=3.1.4 in c:\\users\\julia\\appdata\\local\\programs\\python\\python37\\lib\\site-packages (from google-auth<3,>=1.6.3->tensorboard>=2.2.0->stable_baselines3[extra]) (4.8)\n",
      "Requirement already satisfied: pyasn1-modules>=0.2.1 in c:\\users\\julia\\appdata\\local\\programs\\python\\python37\\lib\\site-packages (from google-auth<3,>=1.6.3->tensorboard>=2.2.0->stable_baselines3[extra]) (0.2.8)\n",
      "Requirement already satisfied: six>=1.9.0 in c:\\users\\julia\\appdata\\local\\programs\\python\\python37\\lib\\site-packages (from google-auth<3,>=1.6.3->tensorboard>=2.2.0->stable_baselines3[extra]) (1.16.0)\n",
      "Requirement already satisfied: requests-oauthlib>=0.7.0 in c:\\users\\julia\\appdata\\local\\programs\\python\\python37\\lib\\site-packages (from google-auth-oauthlib<0.5,>=0.4.1->tensorboard>=2.2.0->stable_baselines3[extra]) (1.3.1)\n",
      "Requirement already satisfied: zipp>=0.5 in c:\\users\\julia\\appdata\\local\\programs\\python\\python37\\lib\\site-packages (from importlib-metadata>=4.8.1->gym==0.21->stable_baselines3[extra]) (3.8.0)\n",
      "Requirement already satisfied: certifi>=2017.4.17 in c:\\users\\julia\\appdata\\local\\programs\\python\\python37\\lib\\site-packages (from requests->autorom[accept-rom-license]~=0.4.2->stable_baselines3[extra]) (2022.6.15)\n",
      "Requirement already satisfied: charset-normalizer~=2.0.0 in c:\\users\\julia\\appdata\\local\\programs\\python\\python37\\lib\\site-packages (from requests->autorom[accept-rom-license]~=0.4.2->stable_baselines3[extra]) (2.0.12)\n",
      "Requirement already satisfied: idna<4,>=2.5 in c:\\users\\julia\\appdata\\local\\programs\\python\\python37\\lib\\site-packages (from requests->autorom[accept-rom-license]~=0.4.2->stable_baselines3[extra]) (3.3)\n",
      "Requirement already satisfied: urllib3<1.27,>=1.21.1 in c:\\users\\julia\\appdata\\local\\programs\\python\\python37\\lib\\site-packages (from requests->autorom[accept-rom-license]~=0.4.2->stable_baselines3[extra]) (1.26.9)\n",
      "Requirement already satisfied: colorama in c:\\users\\julia\\appdata\\local\\programs\\python\\python37\\lib\\site-packages (from click->autorom[accept-rom-license]~=0.4.2->stable_baselines3[extra]) (0.4.5)\n",
      "Requirement already satisfied: pyasn1<0.5.0,>=0.4.6 in c:\\users\\julia\\appdata\\local\\programs\\python\\python37\\lib\\site-packages (from pyasn1-modules>=0.2.1->google-auth<3,>=1.6.3->tensorboard>=2.2.0->stable_baselines3[extra]) (0.4.8)\n",
      "Requirement already satisfied: oauthlib>=3.0.0 in c:\\users\\julia\\appdata\\local\\programs\\python\\python37\\lib\\site-packages (from requests-oauthlib>=0.7.0->google-auth-oauthlib<0.5,>=0.4.1->tensorboard>=2.2.0->stable_baselines3[extra]) (3.2.0)\n"
     ]
    },
    {
     "name": "stdout",
     "output_type": "stream",
     "text": [
      "Requirement already satisfied: gym[all] in c:\\users\\julia\\appdata\\local\\programs\\python\\python37\\lib\\site-packages (0.21.0)\n",
      "Requirement already satisfied: numpy>=1.18.0 in c:\\users\\julia\\appdata\\local\\programs\\python\\python37\\lib\\site-packages (from gym[all]) (1.21.6)\n",
      "Requirement already satisfied: importlib-metadata>=4.8.1 in c:\\users\\julia\\appdata\\local\\programs\\python\\python37\\lib\\site-packages (from gym[all]) (4.11.4)\n",
      "Requirement already satisfied: cloudpickle>=1.2.0 in c:\\users\\julia\\appdata\\local\\programs\\python\\python37\\lib\\site-packages (from gym[all]) (2.1.0)\n",
      "Collecting lz4>=3.1.0\n",
      "  Using cached lz4-4.0.1-cp37-cp37m-win_amd64.whl (98 kB)\n",
      "Collecting mujoco-py<2.0,>=1.50\n",
      "  Using cached mujoco-py-1.50.1.68.tar.gz (120 kB)\n",
      "  Preparing metadata (setup.py): started\n",
      "  Preparing metadata (setup.py): finished with status 'done'\n",
      "Requirement already satisfied: pyglet>=1.4.0 in c:\\users\\julia\\appdata\\local\\programs\\python\\python37\\lib\\site-packages (from gym[all]) (1.5.26)\n",
      "Requirement already satisfied: ale-py~=0.7.1 in c:\\users\\julia\\appdata\\local\\programs\\python\\python37\\lib\\site-packages (from gym[all]) (0.7.5)\n",
      "Requirement already satisfied: scipy>=1.4.1 in c:\\users\\julia\\appdata\\local\\programs\\python\\python37\\lib\\site-packages (from gym[all]) (1.7.3)\n",
      "Requirement already satisfied: opencv-python>=3. in c:\\users\\julia\\appdata\\local\\programs\\python\\python37\\lib\\site-packages (from gym[all]) (4.6.0.66)\n",
      "Collecting box2d-py==2.3.5\n",
      "  Using cached box2d-py-2.3.5.tar.gz (374 kB)\n",
      "  Preparing metadata (setup.py): started\n",
      "  Preparing metadata (setup.py): finished with status 'done'\n",
      "Requirement already satisfied: importlib-resources in c:\\users\\julia\\appdata\\local\\programs\\python\\python37\\lib\\site-packages (from ale-py~=0.7.1->gym[all]) (5.8.0)\n",
      "Requirement already satisfied: zipp>=0.5 in c:\\users\\julia\\appdata\\local\\programs\\python\\python37\\lib\\site-packages (from importlib-metadata>=4.8.1->gym[all]) (3.8.0)\n",
      "Requirement already satisfied: typing-extensions>=3.6.4 in c:\\users\\julia\\appdata\\local\\programs\\python\\python37\\lib\\site-packages (from importlib-metadata>=4.8.1->gym[all]) (4.1.1)\n",
      "Requirement already satisfied: glfw>=1.4.0 in c:\\users\\julia\\appdata\\local\\programs\\python\\python37\\lib\\site-packages (from mujoco-py<2.0,>=1.50->gym[all]) (2.5.3)\n",
      "Collecting Cython>=0.27.2\n",
      "  Using cached Cython-0.29.30-py2.py3-none-any.whl (985 kB)\n",
      "Collecting imageio>=2.1.2\n",
      "  Using cached imageio-2.19.3-py3-none-any.whl (3.4 MB)\n",
      "Requirement already satisfied: cffi>=1.10 in c:\\users\\julia\\appdata\\local\\programs\\python\\python37\\lib\\site-packages (from mujoco-py<2.0,>=1.50->gym[all]) (1.15.0)\n",
      "Requirement already satisfied: lockfile>=0.12.2 in c:\\users\\julia\\appdata\\local\\programs\\python\\python37\\lib\\site-packages (from mujoco-py<2.0,>=1.50->gym[all]) (0.12.2)\n",
      "Requirement already satisfied: pycparser in c:\\users\\julia\\appdata\\local\\programs\\python\\python37\\lib\\site-packages (from cffi>=1.10->mujoco-py<2.0,>=1.50->gym[all]) (2.21)\n",
      "Requirement already satisfied: pillow>=8.3.2 in c:\\users\\julia\\appdata\\local\\programs\\python\\python37\\lib\\site-packages (from imageio>=2.1.2->mujoco-py<2.0,>=1.50->gym[all]) (9.1.1)\n",
      "Building wheels for collected packages: box2d-py, mujoco-py\n",
      "  Building wheel for box2d-py (setup.py): started\n",
      "  Building wheel for box2d-py (setup.py): finished with status 'error'\n",
      "  Running setup.py clean for box2d-py\n",
      "  Building wheel for mujoco-py (setup.py): started\n",
      "  Building wheel for mujoco-py (setup.py): finished with status 'error'\n",
      "  Running setup.py clean for mujoco-py\n",
      "Failed to build box2d-py mujoco-py\n",
      "Installing collected packages: box2d-py, lz4, imageio, Cython, mujoco-py\n",
      "  Running setup.py install for box2d-py: started\n",
      "  Running setup.py install for box2d-py: finished with status 'error'\n"
     ]
    },
    {
     "name": "stderr",
     "output_type": "stream",
     "text": [
      "  error: subprocess-exited-with-error\n",
      "  \n",
      "  python setup.py bdist_wheel did not run successfully.\n",
      "  exit code: 1\n",
      "  \n",
      "  [16 lines of output]\n",
      "  Using setuptools (version 47.1.0).\n",
      "  running bdist_wheel\n",
      "  running build\n",
      "  running build_py\n",
      "  creating build\n",
      "  creating build\\lib.win-amd64-3.7\n",
      "  creating build\\lib.win-amd64-3.7\\Box2D\n",
      "  copying library\\Box2D\\Box2D.py -> build\\lib.win-amd64-3.7\\Box2D\n",
      "  copying library\\Box2D\\__init__.py -> build\\lib.win-amd64-3.7\\Box2D\n",
      "  creating build\\lib.win-amd64-3.7\\Box2D\\b2\n",
      "  copying library\\Box2D\\b2\\__init__.py -> build\\lib.win-amd64-3.7\\Box2D\\b2\n",
      "  running build_ext\n",
      "  building 'Box2D._Box2D' extension\n",
      "  swigging Box2D\\Box2D.i to Box2D\\Box2D_wrap.cpp\n",
      "  swig.exe -python -c++ -IBox2D -small -O -includeall -ignoremissing -w201 -globals b2Globals -outdir library\\Box2D -keyword -w511 -D_SWIG_KWARGS -o Box2D\\Box2D_wrap.cpp Box2D\\Box2D.i\n",
      "  error: command 'swig.exe' failed: No such file or directory\n",
      "  [end of output]\n",
      "  \n",
      "  note: This error originates from a subprocess, and is likely not a problem with pip.\n",
      "  ERROR: Failed building wheel for box2d-py\n",
      "  error: subprocess-exited-with-error\n",
      "  \n",
      "  python setup.py bdist_wheel did not run successfully.\n",
      "  exit code: 1\n",
      "  \n",
      "  [28 lines of output]\n",
      "  running bdist_wheel\n",
      "  running build\n",
      "  Traceback (most recent call last):\n",
      "    File \"<string>\", line 36, in <module>\n",
      "    File \"<pip-setuptools-caller>\", line 34, in <module>\n",
      "    File \"C:\\Users\\julia\\AppData\\Local\\Temp\\pip-install-b__riiaq\\mujoco-py_0d5a46caa7b943d9bb40e8c14cb06fbd\\setup.py\", line 44, in <module>\n",
      "      tests_require=read_requirements_file('requirements.dev.txt'),\n",
      "    File \"c:\\users\\julia\\appdata\\local\\programs\\python\\python37\\lib\\site-packages\\setuptools\\__init__.py\", line 144, in setup\n",
      "      return distutils.core.setup(**attrs)\n",
      "    File \"c:\\users\\julia\\appdata\\local\\programs\\python\\python37\\lib\\distutils\\core.py\", line 148, in setup\n",
      "      dist.run_commands()\n",
      "    File \"c:\\users\\julia\\appdata\\local\\programs\\python\\python37\\lib\\distutils\\dist.py\", line 966, in run_commands\n",
      "      self.run_command(cmd)\n",
      "    File \"c:\\users\\julia\\appdata\\local\\programs\\python\\python37\\lib\\distutils\\dist.py\", line 985, in run_command\n",
      "      cmd_obj.run()\n",
      "    File \"c:\\users\\julia\\appdata\\local\\programs\\python\\python37\\lib\\site-packages\\wheel\\bdist_wheel.py\", line 299, in run\n",
      "      self.run_command('build')\n",
      "    File \"c:\\users\\julia\\appdata\\local\\programs\\python\\python37\\lib\\distutils\\cmd.py\", line 313, in run_command\n",
      "      self.distribution.run_command(command)\n",
      "    File \"c:\\users\\julia\\appdata\\local\\programs\\python\\python37\\lib\\distutils\\dist.py\", line 985, in run_command\n",
      "      cmd_obj.run()\n",
      "    File \"C:\\Users\\julia\\AppData\\Local\\Temp\\pip-install-b__riiaq\\mujoco-py_0d5a46caa7b943d9bb40e8c14cb06fbd\\setup.py\", line 28, in run\n",
      "      import mujoco_py  # noqa: force build\n",
      "    File \"C:\\Users\\julia\\AppData\\Local\\Temp\\pip-install-b__riiaq\\mujoco-py_0d5a46caa7b943d9bb40e8c14cb06fbd\\mujoco_py\\__init__.py\", line 3, in <module>\n",
      "      from mujoco_py.builder import cymj, ignore_mujoco_warnings, functions, MujocoException\n",
      "    File \"C:\\Users\\julia\\AppData\\Local\\Temp\\pip-install-b__riiaq\\mujoco-py_0d5a46caa7b943d9bb40e8c14cb06fbd\\mujoco_py\\builder.py\", line 17, in <module>\n",
      "      from Cython.Build import cythonize\n",
      "  ModuleNotFoundError: No module named 'Cython'\n",
      "  [end of output]\n",
      "  \n",
      "  note: This error originates from a subprocess, and is likely not a problem with pip.\n",
      "  ERROR: Failed building wheel for mujoco-py\n",
      "  error: subprocess-exited-with-error\n",
      "  \n",
      "  Running setup.py install for box2d-py did not run successfully.\n",
      "  exit code: 1\n",
      "  \n",
      "  [16 lines of output]\n",
      "  Using setuptools (version 47.1.0).\n",
      "  running install\n",
      "  running build\n",
      "  running build_py\n",
      "  creating build\n",
      "  creating build\\lib.win-amd64-3.7\n",
      "  creating build\\lib.win-amd64-3.7\\Box2D\n",
      "  copying library\\Box2D\\Box2D.py -> build\\lib.win-amd64-3.7\\Box2D\n",
      "  copying library\\Box2D\\__init__.py -> build\\lib.win-amd64-3.7\\Box2D\n",
      "  creating build\\lib.win-amd64-3.7\\Box2D\\b2\n",
      "  copying library\\Box2D\\b2\\__init__.py -> build\\lib.win-amd64-3.7\\Box2D\\b2\n",
      "  running build_ext\n",
      "  building 'Box2D._Box2D' extension\n",
      "  swigging Box2D\\Box2D.i to Box2D\\Box2D_wrap.cpp\n",
      "  swig.exe -python -c++ -IBox2D -small -O -includeall -ignoremissing -w201 -globals b2Globals -outdir library\\Box2D -keyword -w511 -D_SWIG_KWARGS -o Box2D\\Box2D_wrap.cpp Box2D\\Box2D.i\n",
      "  error: command 'swig.exe' failed: No such file or directory\n",
      "  [end of output]\n",
      "  \n",
      "  note: This error originates from a subprocess, and is likely not a problem with pip.\n",
      "error: legacy-install-failure\n",
      "\n",
      "Encountered error while trying to install package.\n",
      "\n",
      "box2d-py\n",
      "\n",
      "note: This is an issue with the package mentioned above, not pip.\n",
      "hint: See above for output from the failure.\n"
     ]
    }
   ],
   "source": [
    "!pip install stable_baselines3[extra]\n",
    "!pip install gym[all]"
   ]
  },
  {
   "cell_type": "code",
   "execution_count": 2,
   "id": "b453d9ac",
   "metadata": {},
   "outputs": [],
   "source": [
    "import os\n",
    "import gym\n",
    "from stable_baselines3 import PPO #Algoritmo PPO, existen mas como: A2C,DDPG,DQN,HER,SAC,TD3\n",
    "from stable_baselines3.common.vec_env import DummyVecEnv\n",
    "from stable_baselines3.common.evaluation import evaluate_policy"
   ]
  },
  {
   "cell_type": "code",
   "execution_count": 3,
   "id": "2976ca49",
   "metadata": {},
   "outputs": [],
   "source": [
    "enviroment_name = 'CartPole-v0'\n",
    "env = gym.make(enviroment_name)"
   ]
  },
  {
   "cell_type": "code",
   "execution_count": 16,
   "id": "66b310d8",
   "metadata": {},
   "outputs": [
    {
     "data": {
      "text/plain": [
       "1"
      ]
     },
     "execution_count": 16,
     "metadata": {},
     "output_type": "execute_result"
    }
   ],
   "source": [
    "env.action_space.sample()"
   ]
  },
  {
   "cell_type": "code",
   "execution_count": 17,
   "id": "ffb9bcfd",
   "metadata": {},
   "outputs": [
    {
     "name": "stdout",
     "output_type": "stream",
     "text": [
      "Episode 1 , Score:25.0\n",
      "Episode 2 , Score:20.0\n",
      "Episode 3 , Score:14.0\n",
      "Episode 4 , Score:33.0\n",
      "Episode 5 , Score:19.0\n",
      "Episode 6 , Score:21.0\n",
      "Episode 7 , Score:16.0\n",
      "Episode 8 , Score:26.0\n",
      "Episode 9 , Score:14.0\n",
      "Episode 10 , Score:61.0\n"
     ]
    }
   ],
   "source": [
    "episodes = 10\n",
    "for episode in range(1, episodes+1):\n",
    "    state = env.reset()\n",
    "    done = False\n",
    "    score = 0\n",
    "    while not done:\n",
    "        env.render()\n",
    "        action = env.action_space.sample()\n",
    "        n_state, reward, done, info = env.step(action)\n",
    "        score += reward\n",
    "    print('Episode {} , Score:{}'.format(episode,score))\n",
    "env.close()"
   ]
  },
  {
   "cell_type": "code",
   "execution_count": 18,
   "id": "1074f028",
   "metadata": {},
   "outputs": [
    {
     "data": {
      "text/plain": [
       "array([ 2.5418360e+00, -8.7200955e+37,  9.6643671e-02,  2.9022524e+38],\n",
       "      dtype=float32)"
      ]
     },
     "execution_count": 18,
     "metadata": {},
     "output_type": "execute_result"
    }
   ],
   "source": [
    "#Espacio de Observacion: Posicion, Velocidad, Angulo, Velocidad Angular\n",
    "#Espacio de Accion: Mover Izquierda, Mover Derecha\n",
    "env.observation_space.sample()\n",
    "# RT - env.observation_space"
   ]
  },
  {
   "cell_type": "code",
   "execution_count": 19,
   "id": "b70583a7",
   "metadata": {},
   "outputs": [],
   "source": [
    "log_path = os.path.join('Training','Logs')"
   ]
  },
  {
   "cell_type": "code",
   "execution_count": 20,
   "id": "32338f18",
   "metadata": {},
   "outputs": [
    {
     "name": "stdout",
     "output_type": "stream",
     "text": [
      "Using cpu device\n"
     ]
    }
   ],
   "source": [
    "env = gym.make(enviroment_name)\n",
    "env = DummyVecEnv([lambda: env])\n",
    "model = PPO('MlpPolicy', env, verbose = 1, tensorboard_log = log_path)"
   ]
  },
  {
   "cell_type": "code",
   "execution_count": 21,
   "id": "52da248a",
   "metadata": {},
   "outputs": [
    {
     "name": "stdout",
     "output_type": "stream",
     "text": [
      "Logging to Training\\Logs\\PPO_5\n",
      "-----------------------------\n",
      "| time/              |      |\n",
      "|    fps             | 807  |\n",
      "|    iterations      | 1    |\n",
      "|    time_elapsed    | 2    |\n",
      "|    total_timesteps | 2048 |\n",
      "-----------------------------\n",
      "-----------------------------------------\n",
      "| time/                   |             |\n",
      "|    fps                  | 1064        |\n",
      "|    iterations           | 2           |\n",
      "|    time_elapsed         | 3           |\n",
      "|    total_timesteps      | 4096        |\n",
      "| train/                  |             |\n",
      "|    approx_kl            | 0.008763951 |\n",
      "|    clip_fraction        | 0.0897      |\n",
      "|    clip_range           | 0.2         |\n",
      "|    entropy_loss         | -0.686      |\n",
      "|    explained_variance   | -3.14e-05   |\n",
      "|    learning_rate        | 0.0003      |\n",
      "|    loss                 | 6.18        |\n",
      "|    n_updates            | 10          |\n",
      "|    policy_gradient_loss | -0.0143     |\n",
      "|    value_loss           | 46.2        |\n",
      "-----------------------------------------\n",
      "-----------------------------------------\n",
      "| time/                   |             |\n",
      "|    fps                  | 1179        |\n",
      "|    iterations           | 3           |\n",
      "|    time_elapsed         | 5           |\n",
      "|    total_timesteps      | 6144        |\n",
      "| train/                  |             |\n",
      "|    approx_kl            | 0.009395167 |\n",
      "|    clip_fraction        | 0.0877      |\n",
      "|    clip_range           | 0.2         |\n",
      "|    entropy_loss         | -0.666      |\n",
      "|    explained_variance   | 0.111       |\n",
      "|    learning_rate        | 0.0003      |\n",
      "|    loss                 | 10.5        |\n",
      "|    n_updates            | 20          |\n",
      "|    policy_gradient_loss | -0.0231     |\n",
      "|    value_loss           | 29          |\n",
      "-----------------------------------------\n",
      "-----------------------------------------\n",
      "| time/                   |             |\n",
      "|    fps                  | 1244        |\n",
      "|    iterations           | 4           |\n",
      "|    time_elapsed         | 6           |\n",
      "|    total_timesteps      | 8192        |\n",
      "| train/                  |             |\n",
      "|    approx_kl            | 0.012013657 |\n",
      "|    clip_fraction        | 0.114       |\n",
      "|    clip_range           | 0.2         |\n",
      "|    entropy_loss         | -0.633      |\n",
      "|    explained_variance   | 0.23        |\n",
      "|    learning_rate        | 0.0003      |\n",
      "|    loss                 | 20.5        |\n",
      "|    n_updates            | 30          |\n",
      "|    policy_gradient_loss | -0.0218     |\n",
      "|    value_loss           | 48.2        |\n",
      "-----------------------------------------\n",
      "----------------------------------------\n",
      "| time/                   |            |\n",
      "|    fps                  | 1295       |\n",
      "|    iterations           | 5          |\n",
      "|    time_elapsed         | 7          |\n",
      "|    total_timesteps      | 10240      |\n",
      "| train/                  |            |\n",
      "|    approx_kl            | 0.01120766 |\n",
      "|    clip_fraction        | 0.085      |\n",
      "|    clip_range           | 0.2        |\n",
      "|    entropy_loss         | -0.612     |\n",
      "|    explained_variance   | 0.311      |\n",
      "|    learning_rate        | 0.0003     |\n",
      "|    loss                 | 26         |\n",
      "|    n_updates            | 40         |\n",
      "|    policy_gradient_loss | -0.0179    |\n",
      "|    value_loss           | 63.4       |\n",
      "----------------------------------------\n",
      "----------------------------------------\n",
      "| time/                   |            |\n",
      "|    fps                  | 1330       |\n",
      "|    iterations           | 6          |\n",
      "|    time_elapsed         | 9          |\n",
      "|    total_timesteps      | 12288      |\n",
      "| train/                  |            |\n",
      "|    approx_kl            | 0.00649244 |\n",
      "|    clip_fraction        | 0.0328     |\n",
      "|    clip_range           | 0.2        |\n",
      "|    entropy_loss         | -0.597     |\n",
      "|    explained_variance   | 0.313      |\n",
      "|    learning_rate        | 0.0003     |\n",
      "|    loss                 | 8.89       |\n",
      "|    n_updates            | 50         |\n",
      "|    policy_gradient_loss | -0.00901   |\n",
      "|    value_loss           | 61.1       |\n",
      "----------------------------------------\n",
      "-----------------------------------------\n",
      "| time/                   |             |\n",
      "|    fps                  | 1355        |\n",
      "|    iterations           | 7           |\n",
      "|    time_elapsed         | 10          |\n",
      "|    total_timesteps      | 14336       |\n",
      "| train/                  |             |\n",
      "|    approx_kl            | 0.005228279 |\n",
      "|    clip_fraction        | 0.0353      |\n",
      "|    clip_range           | 0.2         |\n",
      "|    entropy_loss         | -0.599      |\n",
      "|    explained_variance   | 0.658       |\n",
      "|    learning_rate        | 0.0003      |\n",
      "|    loss                 | 3.42        |\n",
      "|    n_updates            | 60          |\n",
      "|    policy_gradient_loss | -0.00568    |\n",
      "|    value_loss           | 40.5        |\n",
      "-----------------------------------------\n",
      "------------------------------------------\n",
      "| time/                   |              |\n",
      "|    fps                  | 1375         |\n",
      "|    iterations           | 8            |\n",
      "|    time_elapsed         | 11           |\n",
      "|    total_timesteps      | 16384        |\n",
      "| train/                  |              |\n",
      "|    approx_kl            | 0.0046280567 |\n",
      "|    clip_fraction        | 0.0243       |\n",
      "|    clip_range           | 0.2          |\n",
      "|    entropy_loss         | -0.587       |\n",
      "|    explained_variance   | 0.264        |\n",
      "|    learning_rate        | 0.0003       |\n",
      "|    loss                 | 13.1         |\n",
      "|    n_updates            | 70           |\n",
      "|    policy_gradient_loss | -0.00648     |\n",
      "|    value_loss           | 45.5         |\n",
      "------------------------------------------\n",
      "-----------------------------------------\n",
      "| time/                   |             |\n",
      "|    fps                  | 1386        |\n",
      "|    iterations           | 9           |\n",
      "|    time_elapsed         | 13          |\n",
      "|    total_timesteps      | 18432       |\n",
      "| train/                  |             |\n",
      "|    approx_kl            | 0.003677688 |\n",
      "|    clip_fraction        | 0.0274      |\n",
      "|    clip_range           | 0.2         |\n",
      "|    entropy_loss         | -0.569      |\n",
      "|    explained_variance   | 0.438       |\n",
      "|    learning_rate        | 0.0003      |\n",
      "|    loss                 | 25.4        |\n",
      "|    n_updates            | 80          |\n",
      "|    policy_gradient_loss | -0.00495    |\n",
      "|    value_loss           | 68.3        |\n",
      "-----------------------------------------\n",
      "-----------------------------------------\n",
      "| time/                   |             |\n",
      "|    fps                  | 1396        |\n",
      "|    iterations           | 10          |\n",
      "|    time_elapsed         | 14          |\n",
      "|    total_timesteps      | 20480       |\n",
      "| train/                  |             |\n",
      "|    approx_kl            | 0.004486534 |\n",
      "|    clip_fraction        | 0.0504      |\n",
      "|    clip_range           | 0.2         |\n",
      "|    entropy_loss         | -0.577      |\n",
      "|    explained_variance   | 0.26        |\n",
      "|    learning_rate        | 0.0003      |\n",
      "|    loss                 | 13.9        |\n",
      "|    n_updates            | 90          |\n",
      "|    policy_gradient_loss | -0.00932    |\n",
      "|    value_loss           | 80.4        |\n",
      "-----------------------------------------\n"
     ]
    },
    {
     "data": {
      "text/plain": [
       "<stable_baselines3.ppo.ppo.PPO at 0x1feb623f488>"
      ]
     },
     "execution_count": 21,
     "metadata": {},
     "output_type": "execute_result"
    }
   ],
   "source": [
    "model.learn(total_timesteps = 20000)"
   ]
  },
  {
   "cell_type": "markdown",
   "id": "9e219169",
   "metadata": {},
   "source": [
    "## Guardar y recargar"
   ]
  },
  {
   "cell_type": "code",
   "execution_count": 22,
   "id": "59125172",
   "metadata": {},
   "outputs": [],
   "source": [
    "PPO_Path = os.path.join('Training','Saved Models','PPO_Model_Cartpole')"
   ]
  },
  {
   "cell_type": "code",
   "execution_count": 23,
   "id": "1e97bc06",
   "metadata": {},
   "outputs": [],
   "source": [
    "model.save(PPO_Path)"
   ]
  },
  {
   "cell_type": "code",
   "execution_count": 24,
   "id": "bf3b3614",
   "metadata": {},
   "outputs": [],
   "source": [
    "del model"
   ]
  },
  {
   "cell_type": "code",
   "execution_count": 25,
   "id": "339733dc",
   "metadata": {},
   "outputs": [],
   "source": [
    "model = PPO.load(PPO_Path, env = env)"
   ]
  },
  {
   "cell_type": "markdown",
   "id": "48505e76",
   "metadata": {},
   "source": [
    "## Evaluacion del modelo de RL"
   ]
  },
  {
   "cell_type": "code",
   "execution_count": 26,
   "id": "7c17ec7d",
   "metadata": {
    "scrolled": true
   },
   "outputs": [
    {
     "name": "stderr",
     "output_type": "stream",
     "text": [
      "c:\\users\\julia\\appdata\\local\\programs\\python\\python37\\lib\\site-packages\\stable_baselines3\\common\\evaluation.py:69: UserWarning: Evaluation environment is not wrapped with a ``Monitor`` wrapper. This may result in reporting modified episode lengths and rewards, if other wrappers happen to modify these. Consider wrapping environment first with ``Monitor`` wrapper.\n",
      "  UserWarning,\n"
     ]
    },
    {
     "data": {
      "text/plain": [
       "(200.0, 0.0)"
      ]
     },
     "execution_count": 26,
     "metadata": {},
     "output_type": "execute_result"
    }
   ],
   "source": [
    "# si score =200 esta resuleto\n",
    "evaluate_policy(model, env, n_eval_episodes = 5, render = True)"
   ]
  },
  {
   "cell_type": "code",
   "execution_count": 27,
   "id": "d1d099a0",
   "metadata": {},
   "outputs": [],
   "source": [
    "# SCORE Y DESVIACION ESTANDAR\n",
    "env.close()"
   ]
  },
  {
   "cell_type": "code",
   "execution_count": 28,
   "id": "d90625a8",
   "metadata": {},
   "outputs": [
    {
     "name": "stdout",
     "output_type": "stream",
     "text": [
      "Episode 1 , Score:[200.]\n",
      "Episode 2 , Score:[200.]\n",
      "Episode 3 , Score:[176.]\n",
      "Episode 4 , Score:[200.]\n",
      "Episode 5 , Score:[200.]\n",
      "Episode 6 , Score:[155.]\n",
      "Episode 7 , Score:[150.]\n",
      "Episode 8 , Score:[200.]\n",
      "Episode 9 , Score:[120.]\n",
      "Episode 10 , Score:[200.]\n"
     ]
    }
   ],
   "source": [
    "episodes = 10\n",
    "for episode in range(1, episodes+1):\n",
    "    obs = env.reset()\n",
    "    done = False\n",
    "    score = 0\n",
    "    while not done:\n",
    "        env.render()\n",
    "        action , _ = model.predict(obs)\n",
    "        obs, reward, done, info = env.step(action)\n",
    "        score += reward\n",
    "    print('Episode {} , Score:{}'.format(episode,score))\n",
    "env.close()"
   ]
  }
 ],
 "metadata": {
  "kernelspec": {
   "display_name": "Python 3 (ipykernel)",
   "language": "python",
   "name": "python3"
  },
  "language_info": {
   "codemirror_mode": {
    "name": "ipython",
    "version": 3
   },
   "file_extension": ".py",
   "mimetype": "text/x-python",
   "name": "python",
   "nbconvert_exporter": "python",
   "pygments_lexer": "ipython3",
   "version": "3.7.8rc1"
  }
 },
 "nbformat": 4,
 "nbformat_minor": 5
}
